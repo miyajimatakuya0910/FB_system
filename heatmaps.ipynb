{
 "cells": [
  {
   "cell_type": "code",
   "execution_count": 23,
   "metadata": {},
   "outputs": [],
   "source": [
    "# In[135]:\n",
    "\n",
    "\n",
    "import sys\n",
    "import time\n",
    "from collections import Counter\n",
    "import math\n",
    "\n",
    "import numpy as np\n",
    "import sklearn\n",
    "from sklearn.decomposition import TruncatedSVD\n",
    "import matplotlib\n",
    "import matplotlib.pyplot as plt\n",
    "import pandas as pd\n",
    "import os\n",
    "from pathlib import Path \n"
   ]
  },
  {
   "cell_type": "code",
   "execution_count": 16,
   "metadata": {},
   "outputs": [
    {
     "name": "stdout",
     "output_type": "stream",
     "text": [
      "/Users/hiroki/Documents/大学/AIC/一貫校/高速FBシステム\n",
      "<class 'str'>\n"
     ]
    }
   ],
   "source": [
    "# In[136]:\n",
    "\n",
    "\n",
    "# the location of the current directry\n",
    "\n",
    "path = os.getcwd()\n",
    "print(path)\n",
    "print(type(path))\n"
   ]
  },
  {
   "cell_type": "code",
   "execution_count": 17,
   "metadata": {},
   "outputs": [],
   "source": [
    "# csvファイルの読み込み\n",
    "\n",
    "# 使い方!!!!!!!!(必読)\n",
    "# current directryにcsv_fileというフォルダを作る\n",
    "# 得られたデータセットは全てそこに入れる\n",
    "# あとは回すだけコードを回すのみ!\n",
    "\n",
    "p = Path('./csv_file') #current directry\n",
    "file_name = '**/*.csv'\n",
    "csv_files = p.glob(file_name)\n",
    "\n",
    "\n",
    "# 年月日時分秒の入力\n",
    "zero = '.000'\n",
    "\n",
    "input_start_time = input(\"サッカーを開始した年月日時分秒を入力してください (YYYY-MM-DD HH:MM:SS): \")\n",
    "input_goal_time = input(\"サッカーを終了した年月日時分秒を入力してください (YYYY-MM-DD HH:MM:SS): \")\n",
    "\n",
    "start_time = input_start_time + zero\n",
    "end_time = input_goal_time + zero\n",
    "\n",
    "# 開始時間と終了時間\n",
    "# start_time = '2023-06-13 16:20:02.000'\n",
    "# end_time = '2023-06-13 16:40:02.000'\n",
    "\n",
    "def main():   \n",
    "    name = {}\n",
    "    count = 0       \n",
    "    for file in csv_files:\n",
    "        # 緯度, 経度の読み込み\n",
    "        df1 = pd.read_csv(file,dtype='object',usecols=[0, 2, 3]).dropna(how='all')\n",
    "\n",
    "        # print(df1)\n",
    "\n",
    "        # 列名を変更する\n",
    "        df1.rename(columns={'Unnamed: 0': 'Time'}, inplace=True)\n",
    "        # 一列目の時間をindexにする\n",
    "        df1.set_index('Time', inplace=True)\n",
    "\n",
    "        # インデックスの範囲を指定してデータをフィルタリング\n",
    "        filtered_df1 = df1.loc[start_time:end_time] \n",
    "        \n",
    "        name[\"location\" + str(count)] = np.float_(filtered_df1.values) # 適当に名前つけちゃう\n",
    "        count = count + 1 # roop counter\n",
    "        \n",
    "        # 動作確認パート\n",
    "        #print(file)  # ファイル名\n",
    "        #print(df1)   # 中身\n",
    "        #print(count) # 実行回数\n",
    "        #print(name[\"location\" + str(count - 1)])\n",
    "        #print(name)\n",
    "        \n",
    "    return name\n",
    "        \n",
    "if __name__ == '__main__':\n",
    "    name = main()\n",
    "\n",
    "#print(name)"
   ]
  },
  {
   "cell_type": "code",
   "execution_count": 18,
   "metadata": {},
   "outputs": [],
   "source": [
    "# 初期設定\n",
    "\n",
    "# 手動入力\n",
    "\n",
    "NW_E = 139.5460865  #初等部グラウンド北西(経度)\n",
    "NW_N = 35.5606717   #初等部グラウンド北西(緯度)\n",
    "\n",
    "SE_E = 139.5476025  #初等部グラウンド南東(経度)\n",
    "SE_N = 35.5599487   #初等部グラウンド南東(緯度)\n",
    "\n",
    "def caluculate_coordinate(NW_E, NW_N, SE_E, SE_N):\n",
    "\n",
    "\n",
    "    com = round(np.abs(NW_E-SE_E)/np.abs(NW_N-SE_N)*10)/10 #ざっくり縦横比(南北を1とした時の東西の値)\n",
    "\n",
    "    r2 = 40              #解像度(南北)\n",
    "    c2 = int(r2*com)     #解像度(東西)　ここを任意で指定する場合, plt.axes().set_aspect('equal')を削除すること!\n",
    "\n",
    "    # 付随する変数もろもろ\n",
    "    w = (SE_E - NW_E)/c2\n",
    "    h = (NW_N - SE_N)/r2\n",
    "    ground = np.zeros((c2,r2))\n",
    "    sam = np.zeros((c2,r2))\n",
    "\n",
    "    return r2, c2, w, h, ground, sam"
   ]
  },
  {
   "cell_type": "code",
   "execution_count": 19,
   "metadata": {},
   "outputs": [],
   "source": [
    "# ヒートマップ作成\n",
    "def generate_heatmap(name, NW_E, NW_N, w, h, c2, r2, ground, sam):\n",
    "\n",
    "    amount = len(name) #読み込んだデータの数(生徒数)\n",
    "\n",
    "    for n in range(amount):\n",
    "        location = name[\"location\" + str(n)]\n",
    "        size = location.shape[0]\n",
    "\n",
    "        for i in range(size):\n",
    "            x = math.floor((location[i][1]-NW_E)/w)\n",
    "            y = math.floor(-(location[i][0]-NW_N)/h)\n",
    "            \n",
    "            if x>c2 or x<0:   # グラウンド外を指したデータの削除\n",
    "                pass\n",
    "            elif y>r2 or y<0: # グラウンド外を指したデータの削除\n",
    "                pass\n",
    "            else:\n",
    "                ground[x][y] = ground[x][y] + 1\n",
    "\n",
    "        for i in range(1,c2-2):\n",
    "            for j in range(1,r2-2):\n",
    "                sam[i][j] = sam[i][j] + (ground[i+1][j-1] + ground[i+1][j] + ground[i+1][j+1] \n",
    "                            + ground[i][j-1] + ground[i][j] + ground[i][j+1] \n",
    "                            + ground[i-1][j-1] + ground[i-1][j] + ground[i-1][j+1])/9\n",
    "    return sam"
   ]
  },
  {
   "cell_type": "code",
   "execution_count": null,
   "metadata": {},
   "outputs": [],
   "source": []
  },
  {
   "cell_type": "code",
   "execution_count": 21,
   "metadata": {},
   "outputs": [
    {
     "data": {
      "image/png": "[encoded data removed]",
      "text/plain": [
       "<Figure size 432x288 with 1 Axes>"
      ]
     },
     "metadata": {
      "needs_background": "light"
     },
     "output_type": "display_data"
    }
   ],
   "source": [
    "r2, c2, w, h, ground, sam = caluculate_coordinate(NW_E, NW_N, SE_E, SE_N)\n",
    "sam = generate_heatmap(name, NW_E, NW_N, w, h, c2, r2, ground, sam)\n",
    "\n",
    "\n",
    "# 描画(左が北, 上が東)\n",
    "\n",
    "xline = np.linspace(1,c2,c2)\n",
    "yline = np.linspace(1,r2,r2)\n",
    "zline = sam\n",
    "plt.axes().set_aspect('equal') # サイズ合わせ\n",
    "\n",
    "plt.pcolor(zline, cmap='jet')\n",
    "\n",
    "# 保存先のディレクトリを指定\n",
    "save_directory = \"heatmaps\"  # 保存先のディレクトリ名\n",
    "\n",
    "# グラフを指定したディレクトリに保存\n",
    "file_path = os.path.join(save_directory, \"heatmap_whole.pdf\")  # 保存するファイルのパス\n",
    "\n",
    "plt.savefig(file_path)\n",
    "plt.show()\n"
   ]
  }
 ],
 "metadata": {
  "kernelspec": {
   "display_name": "base",
   "language": "python",
   "name": "python3"
  },
  "language_info": {
   "codemirror_mode": {
    "name": "ipython",
    "version": 3
   },
   "file_extension": ".py",
   "mimetype": "text/x-python",
   "name": "python",
   "nbconvert_exporter": "python",
   "pygments_lexer": "ipython3",
   "version": "3.8.8"
  },
  "orig_nbformat": 4
 },
 "nbformat": 4,
 "nbformat_minor": 2
}
