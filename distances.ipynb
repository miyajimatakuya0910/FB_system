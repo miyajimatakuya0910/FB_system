{
 "cells": [
  {
   "cell_type": "code",
   "execution_count": 2,
   "metadata": {},
   "outputs": [],
   "source": [
    "# 2023-6-13 16:24:00\n",
    "# 35.560468  139.547458\n",
    "# 35.560656  139.546283\n",
    "# 20230613_162001_AIC 2_10Hz\n",
    "import math\n",
    "import csv\n",
    "import datetime\n",
    "import os"
   ]
  },
  {
   "cell_type": "code",
   "execution_count": 3,
   "metadata": {},
   "outputs": [],
   "source": [
    "def calculate_distance(lat1, lon1, lat2, lon2):\n",
    "    # 地球の半径（単位: メートル）\n",
    "    earth_radius = 6371000.0\n",
    "\n",
    "    # 度数法からラジアンに変換\n",
    "    lat1_rad = math.radians(lat1)\n",
    "    lon1_rad = math.radians(lon1)\n",
    "    lat2_rad = math.radians(lat2)\n",
    "    lon2_rad = math.radians(lon2)\n",
    "\n",
    "    # ヒュベニの公式を用いて距離を計算\n",
    "    dlon = lon2_rad - lon1_rad\n",
    "    dlat = lat2_rad - lat1_rad\n",
    "    a = math.sin(dlat / 2)**2 + math.cos(lat1_rad) * math.cos(lat2_rad) * math.sin(dlon / 2)**2\n",
    "    c = 2 * math.atan2(math.sqrt(a), math.sqrt(1 - a))\n",
    "    distance = earth_radius * c\n",
    "\n",
    "    return distance"
   ]
  },
  {
   "cell_type": "code",
   "execution_count": 4,
   "metadata": {},
   "outputs": [],
   "source": [
    "def get_start_and_goal_time():\n",
    "    # 年月日時分秒の入力\n",
    "    input_date_str = input(\"年月日時分秒を入力してください (YYYY-MM-DD HH:MM:SS): \")\n",
    "\n",
    "    # 入力された文字列をdatetimeオブジェクトに変換\n",
    "    input_date = datetime.datetime.strptime(input_date_str, \"%Y-%m-%d %H:%M:%S\")\n",
    "\n",
    "    # 入力されたdatetimeオブジェクトを表示\n",
    "    print(\"入力された日付と時刻:\", input_date)\n",
    "\n",
    "    raw_start_time = input_date\n",
    "    raw_goal_time = raw_start_time + datetime.timedelta(seconds=8)\n",
    "\n",
    "    start_time = raw_start_time.strftime('%Y-%m-%d %H:%M:%S.%f')[:-3]\n",
    "    goal_time = raw_goal_time.strftime('%Y-%m-%d %H:%M:%S.%f')[:-3]\n",
    "\n",
    "    print(\"Start Time:\", start_time)\n",
    "    print(\"Goal Time:\", goal_time)\n",
    "\n",
    "    return start_time, goal_time"
   ]
  },
  {
   "cell_type": "code",
   "execution_count": 5,
   "metadata": {},
   "outputs": [],
   "source": [
    "# csvからスタートとゴールの座標を取得\n",
    "\n",
    "def get_coordinate_from_csv(csv_file, start_time, goal_time):\n",
    "    with open(csv_file, newline='') as file:\n",
    "        reader = csv.reader(file)\n",
    "        for row in reader:\n",
    "            if row[0] == start_time:\n",
    "                start_lat = row[2]\n",
    "                start_lon = row[3]\n",
    "                break\n",
    "        start_lat = float(start_lat)\n",
    "        start_lon = float(start_lon)\n",
    "\n",
    "    with open(csv_file, newline='') as file:\n",
    "        reader = csv.reader(file)\n",
    "        for row in reader:\n",
    "            if row[0] == goal_time:\n",
    "                goal_lat = row[2]\n",
    "                goal_lon = row[3]\n",
    "                break\n",
    "        goal_lat = float(goal_lat)\n",
    "        goal_lon = float(goal_lon)\n",
    "\n",
    "    #動作確認のためのコード\n",
    "    if start_lat is not None and start_lon is not None:\n",
    "        print(\"start_lat:\", start_lat)\n",
    "        print(\"start_lon:\", start_lon)\n",
    "    else:\n",
    "        print(\"指定された開始時間が見つかりませんでした。\")\n",
    "\n",
    "    if goal_lat is not None and goal_lon is not None:\n",
    "        print(\"goal_lat:\", goal_lat)\n",
    "        print(\"goal_lon:\", goal_lon)\n",
    "    else:\n",
    "        print(\"指定された開始時間が見つかりませんでした。\")\n",
    "\n",
    "    return start_lat, start_lon, goal_lat, goal_lon\n"
   ]
  },
  {
   "cell_type": "code",
   "execution_count": 7,
   "metadata": {},
   "outputs": [],
   "source": [
    "def get_distances():\n",
    "    csv_directory = \"csv_file\"  # CSVファイルが格納されているディレクトリのパス\n",
    "    distances = []\n",
    "    # 指定されたディレクトリ内のすべてのファイルを走査し、CSVファイルの相対パスを取得する\n",
    "    csv_files = [os.path.join(csv_directory, file) for file in os.listdir(csv_directory) if file.endswith(\".csv\")]\n",
    "\n",
    "    start_time, goal_time = get_start_and_goal_time()\n",
    "\n",
    "    # 結果を個人と紐づけてdistanceに入れる必要あり\n",
    "    for csv_file in csv_files:\n",
    "        start_lat, start_lon, goal_lat, goal_lon = get_coordinate_from_csv(csv_file, start_time, goal_time)\n",
    "        distance = calculate_distance(start_lat, start_lon, goal_lat, goal_lon)\n",
    "        print(\"あなたの８秒間で走った距離は\", distance, \"メートルです。\")\n",
    "        distances.append(distance)\n",
    "\n",
    "    return distances"
   ]
  }
 ],
 "metadata": {
  "kernelspec": {
   "display_name": "base",
   "language": "python",
   "name": "python3"
  },
  "language_info": {
   "codemirror_mode": {
    "name": "ipython",
    "version": 3
   },
   "file_extension": ".py",
   "mimetype": "text/x-python",
   "name": "python",
   "nbconvert_exporter": "python",
   "pygments_lexer": "ipython3",
   "version": "3.8.8"
  },
  "orig_nbformat": 4
 },
 "nbformat": 4,
 "nbformat_minor": 2
}
